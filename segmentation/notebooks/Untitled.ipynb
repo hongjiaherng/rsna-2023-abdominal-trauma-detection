{
 "cells": [
  {
   "cell_type": "code",
   "execution_count": 1,
   "id": "146ecdb3-7b6d-4784-bc3e-e2aab17edff7",
   "metadata": {},
   "outputs": [
    {
     "data": {
      "text/plain": [
       "\"C:\\\\Users\\\\Jia Herng\\\\Documents\\\\Jia Herng's Docs\\\\Programming Projects\\\\rsna-2023-abdominal-trauma-detection\\\\segmentation\\\\notebooks\""
      ]
     },
     "execution_count": 1,
     "metadata": {},
     "output_type": "execute_result"
    }
   ],
   "source": [
    "import os\n",
    "\n",
    "os.getcwd()"
   ]
  },
  {
   "cell_type": "code",
   "execution_count": 3,
   "id": "a5bbe1b6-ff87-4d8b-a501-7c27a6d9a0e6",
   "metadata": {},
   "outputs": [],
   "source": [
    "import sys\n",
    "\n",
    "sys.path.append(os.path.abspath(\"../src/\"))\n",
    "sys.path.append(os.path.abspath(\"../../datasets/rsna-2023-abdominal-trauma-detection/\"))"
   ]
  },
  {
   "cell_type": "code",
   "execution_count": 9,
   "id": "d57a5115-b0ab-4592-94d2-68c10f6e7704",
   "metadata": {},
   "outputs": [],
   "source": [
    "\n",
    "from models.segresnet import SegResNet3D\n",
    "\n",
    "\n"
   ]
  },
  {
   "cell_type": "code",
   "execution_count": 5,
   "id": "df39c6bc-a7fa-45a1-bb85-2582f95bf895",
   "metadata": {},
   "outputs": [
    {
     "data": {
      "text/plain": [
       "rsna_datasets.Classification2DDataset"
      ]
     },
     "execution_count": 5,
     "metadata": {},
     "output_type": "execute_result"
    }
   ],
   "source": [
    "import rsna_datasets\n",
    "\n",
    "rsna_datasets.Classification2DDataset"
   ]
  },
  {
   "cell_type": "code",
   "execution_count": null,
   "id": "3081f8c1-582a-429e-9442-fcf11e569a64",
   "metadata": {},
   "outputs": [],
   "source": []
  }
 ],
 "metadata": {
  "kernelspec": {
   "display_name": "ml-env (conda)",
   "language": "python",
   "name": "ml-env"
  },
  "language_info": {
   "codemirror_mode": {
    "name": "ipython",
    "version": 3
   },
   "file_extension": ".py",
   "mimetype": "text/x-python",
   "name": "python",
   "nbconvert_exporter": "python",
   "pygments_lexer": "ipython3",
   "version": "3.11.4"
  }
 },
 "nbformat": 4,
 "nbformat_minor": 5
}
